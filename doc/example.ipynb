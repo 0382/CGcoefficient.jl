{
 "cells": [
  {
   "cell_type": "markdown",
   "metadata": {},
   "source": [
    "# CGcoefficient.jl\n",
    "\n",
    "Define `SqrtRational <: Real` type to store absolute result, use `BigInt` to avoid overflow.\n",
    "\n",
    "## Functions\n",
    "\n",
    "Angular momentum quantum numbers may be half integers. People often use double of angular momentum quantum number as parameters, so they become intergers.\n",
    "My code also have such functions.\n",
    "\n",
    "```julia\n",
    "dCG(dj1::Integer, dj2::Integer, dj3::Integer, dm1::Integer, dm2::Integer, dm3::Integer)::SqrtRational\n",
    "d3j(dj1::Integer, dj2::Integer, dj3::Integer, dm1::Integer, dm2::Integer, dm3::Integer)::SqrtRational\n",
    "d6j(dj1::Integer, dj2::Integer, dj3::Integer, dj4::Integer, dj5::Integer, dj6::Integer)::SqrtRational\n",
    "d9j(dj1::Integer, dj2::Integer, dj3::Integer,\n",
    "   dj4::Integer, dj5::Integer, dj6::Integer,\n",
    "   dj7::Integer, dj8::Integer, dj9::Integer)::SqrtRational\n",
    "```\n",
    "\n",
    "Where the letter `d` means **double**.\n",
    "\n",
    "Fortunately, Julia have `Rational` type, so my code also defines functions with `Rational` parameters.\n",
    "\n",
    "```julia\n",
    "const AngularType = Union{Integer, Rational}\n",
    "\n",
    "CG(j1::AngularType, j2::AngularType, j3::AngularType, m1::AngularType, m2::AngularType, m3::AngularType)::SqrtRational\n",
    "threeJ(j1::AngularType, j2::AngularType, j3::AngularType, m1::AngularType, m2::AngularType, m3::AngularType)::SqrtRational\n",
    "sixJ(j1::AngularType, j2::AngularType, j3::AngularType, j4::AngularType, j5::AngularType, j6::AngularType)::SqrtRational\n",
    "nineJ(j1::AngularType, j2::AngularType, j3::AngularType,\n",
    "    j4::AngularType, j5::AngularType, j6::AngularType,\n",
    "    j7::AngularType, j8::AngularType, j9::AngularType)::SqrtRational\n",
    "```\n",
    "\n",
    "## Example"
   ]
  },
  {
   "cell_type": "code",
   "execution_count": 1,
   "metadata": {},
   "outputs": [],
   "source": [
    "using CGcoefficient"
   ]
  },
  {
   "cell_type": "code",
   "execution_count": 2,
   "metadata": {},
   "outputs": [
    {
     "data": {
      "text/markdown": [
       "$\\dfrac{\\sqrt{2}}{3\\sqrt{715}}$\n"
      ],
      "text/plain": [
       "√2/3√715"
      ]
     },
     "execution_count": 2,
     "metadata": {},
     "output_type": "execute_result"
    }
   ],
   "source": [
    "sixJ(1,2,3,4,5,6)"
   ]
  },
  {
   "cell_type": "code",
   "execution_count": 3,
   "metadata": {},
   "outputs": [
    {
     "data": {
      "text/markdown": [
       "$\\dfrac{\\sqrt{2}}{39\\sqrt{385}}$\n"
      ],
      "text/plain": [
       "√2/39√385"
      ]
     },
     "execution_count": 3,
     "metadata": {},
     "output_type": "execute_result"
    }
   ],
   "source": [
    "nineJ(1,2,3,5,4,3,6,6,0)"
   ]
  },
  {
   "cell_type": "code",
   "execution_count": 4,
   "metadata": {},
   "outputs": [
    {
     "data": {
      "text/markdown": [
       "$\\dfrac{\\sqrt{2}}{39\\sqrt{385}}$\n"
      ],
      "text/plain": [
       "√2/39√385"
      ]
     },
     "execution_count": 4,
     "metadata": {},
     "output_type": "execute_result"
    }
   ],
   "source": [
    "sixJ(1,2,3,4,5,6) * SqrtRational(1//7) * SqrtRational(1//13) * iphase(2+3+5+6)"
   ]
  },
  {
   "cell_type": "code",
   "execution_count": 5,
   "metadata": {},
   "outputs": [
    {
     "data": {
      "text/markdown": [
       "$0$\n"
      ],
      "text/plain": [
       "0"
      ]
     },
     "execution_count": 5,
     "metadata": {},
     "output_type": "execute_result"
    }
   ],
   "source": [
    "CG(1,1,1,0,0,0)"
   ]
  },
  {
   "cell_type": "code",
   "execution_count": 6,
   "metadata": {},
   "outputs": [
    {
     "data": {
      "text/markdown": [
       "$\\dfrac{1}{\\sqrt{6}}$\n"
      ],
      "text/plain": [
       "1/√6"
      ]
     },
     "execution_count": 6,
     "metadata": {},
     "output_type": "execute_result"
    }
   ],
   "source": [
    "threeJ(3//2, 1, 1//2, 1//2, 0, -1//2)"
   ]
  },
  {
   "cell_type": "code",
   "execution_count": 7,
   "metadata": {},
   "outputs": [
    {
     "name": "stdout",
     "output_type": "stream",
     "text": [
      "1/5√21"
     ]
    }
   ],
   "source": [
    "a = sixJ(1,2,3,2,1,2)\n",
    "print(a)"
   ]
  }
 ],
 "metadata": {
  "kernelspec": {
   "display_name": "Julia 1.5.2",
   "language": "julia",
   "name": "julia-1.5"
  },
  "language_info": {
   "file_extension": ".jl",
   "mimetype": "application/julia",
   "name": "julia",
   "version": "1.5.2"
  }
 },
 "nbformat": 4,
 "nbformat_minor": 4
}
